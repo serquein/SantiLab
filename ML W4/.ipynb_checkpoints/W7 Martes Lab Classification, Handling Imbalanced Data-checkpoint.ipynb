{
 "cells": [
  {
   "cell_type": "code",
   "execution_count": 42,
   "id": "b081ef53",
   "metadata": {},
   "outputs": [],
   "source": [
    "import pandas as pd\n",
    "import numpy as np\n",
    "## plotting libraries\n",
    "from matplotlib import pyplot as plt\n",
    "## Sklearn libraries\n",
    "from sklearn.model_selection import train_test_split\n",
    "from sklearn.neighbors import KNeighborsClassifier\n",
    "from sklearn.metrics import plot_confusion_matrix\n",
    "from sklearn.metrics import accuracy_score, precision_score, recall_score\n",
    "from sklearn.preprocessing import MinMaxScaler\n"
   ]
  },
  {
   "cell_type": "markdown",
   "id": "66b48578",
   "metadata": {},
   "source": [
    "Round 1"
   ]
  },
  {
   "cell_type": "code",
   "execution_count": 14,
   "id": "5a36fea9",
   "metadata": {},
   "outputs": [],
   "source": [
    "# Import the required libraries and modules that you would need.\n",
    "# Read that data into Python and call the dataframe churnData.\n",
    "churnData = pd.read_csv('DATA_Customer-Churn.csv')"
   ]
  },
  {
   "cell_type": "code",
   "execution_count": 15,
   "id": "1fa68d10",
   "metadata": {},
   "outputs": [
    {
     "name": "stdout",
     "output_type": "stream",
     "text": [
      "<class 'pandas.core.frame.DataFrame'>\n",
      "RangeIndex: 7043 entries, 0 to 7042\n",
      "Data columns (total 16 columns):\n",
      " #   Column            Non-Null Count  Dtype  \n",
      "---  ------            --------------  -----  \n",
      " 0   gender            7043 non-null   object \n",
      " 1   SeniorCitizen     7043 non-null   int64  \n",
      " 2   Partner           7043 non-null   object \n",
      " 3   Dependents        7043 non-null   object \n",
      " 4   tenure            7043 non-null   int64  \n",
      " 5   PhoneService      7043 non-null   object \n",
      " 6   OnlineSecurity    7043 non-null   object \n",
      " 7   OnlineBackup      7043 non-null   object \n",
      " 8   DeviceProtection  7043 non-null   object \n",
      " 9   TechSupport       7043 non-null   object \n",
      " 10  StreamingTV       7043 non-null   object \n",
      " 11  StreamingMovies   7043 non-null   object \n",
      " 12  Contract          7043 non-null   object \n",
      " 13  MonthlyCharges    7043 non-null   float64\n",
      " 14  TotalCharges      7043 non-null   object \n",
      " 15  Churn             7043 non-null   object \n",
      "dtypes: float64(1), int64(2), object(13)\n",
      "memory usage: 880.5+ KB\n"
     ]
    }
   ],
   "source": [
    "# Check the datatypes of all the columns in the data. \n",
    "# You will see that the column TotalCharges is object type. \n",
    "churnData.info()\n"
   ]
  },
  {
   "cell_type": "code",
   "execution_count": 24,
   "id": "9af70d7c",
   "metadata": {},
   "outputs": [
    {
     "data": {
      "text/plain": [
       "dtype('float64')"
      ]
     },
     "execution_count": 24,
     "metadata": {},
     "output_type": "execute_result"
    }
   ],
   "source": [
    "# Convert this column into numeric type using pd.to_numeric function.\n",
    "\n",
    "churnData['TotalCharges'] = churnData['TotalCharges'].replace(' ',0)\n",
    "\n",
    "churnData[\"TotalCharges\"]=pd.to_numeric(churnData[\"TotalCharges\"], errors='raise')\n",
    "\n",
    "churnData[\"TotalCharges\"].dtype"
   ]
  },
  {
   "cell_type": "code",
   "execution_count": 29,
   "id": "17b8a450",
   "metadata": {},
   "outputs": [
    {
     "data": {
      "text/plain": [
       "gender              0\n",
       "SeniorCitizen       0\n",
       "Partner             0\n",
       "Dependents          0\n",
       "tenure              0\n",
       "PhoneService        0\n",
       "OnlineSecurity      0\n",
       "OnlineBackup        0\n",
       "DeviceProtection    0\n",
       "TechSupport         0\n",
       "StreamingTV         0\n",
       "StreamingMovies     0\n",
       "Contract            0\n",
       "MonthlyCharges      0\n",
       "TotalCharges        0\n",
       "Churn               0\n",
       "dtype: int64"
      ]
     },
     "execution_count": 29,
     "metadata": {},
     "output_type": "execute_result"
    }
   ],
   "source": [
    "# Check for null values in the dataframe. \n",
    "churnData.isnull().sum()"
   ]
  },
  {
   "cell_type": "code",
   "execution_count": 30,
   "id": "a6e835d4",
   "metadata": {},
   "outputs": [
    {
     "name": "stderr",
     "output_type": "stream",
     "text": [
      "C:\\Users\\santi\\AppData\\Local\\Temp\\ipykernel_4700\\2103808584.py:2: FutureWarning: Dropping of nuisance columns in DataFrame reductions (with 'numeric_only=None') is deprecated; in a future version this will raise TypeError.  Select only valid columns before calling the reduction.\n",
      "  churnData.fillna(churnData.mean(), inplace=True)\n"
     ]
    }
   ],
   "source": [
    "# Replace the null values.\n",
    "churnData.fillna(churnData.mean(), inplace=True)"
   ]
  },
  {
   "cell_type": "code",
   "execution_count": 33,
   "id": "86549cd5",
   "metadata": {
    "collapsed": true
   },
   "outputs": [
    {
     "data": {
      "text/plain": [
       "<bound method DataFrame.info of       SeniorCitizen  tenure  MonthlyCharges  TotalCharges Churn\n",
       "0                 0       1           29.85         29.85    No\n",
       "1                 0      34           56.95       1889.50    No\n",
       "2                 0       2           53.85        108.15   Yes\n",
       "3                 0      45           42.30       1840.75    No\n",
       "4                 0       2           70.70        151.65   Yes\n",
       "...             ...     ...             ...           ...   ...\n",
       "7038              0      24           84.80       1990.50    No\n",
       "7039              0      72          103.20       7362.90    No\n",
       "7040              0      11           29.60        346.45    No\n",
       "7041              1       4           74.40        306.60   Yes\n",
       "7042              0      66          105.65       6844.50    No\n",
       "\n",
       "[7043 rows x 5 columns]>"
      ]
     },
     "execution_count": 33,
     "metadata": {},
     "output_type": "execute_result"
    }
   ],
   "source": [
    "# Use the following features: tenure, SeniorCitizen, MonthlyCharges and TotalCharges\n",
    "churnData.drop(['gender','Partner','Dependents','PhoneService','OnlineSecurity','OnlineBackup','DeviceProtection','TechSupport','StreamingTV','StreamingMovies','Contract'], axis=1, inplace=True)\n",
    "churnData.info"
   ]
  },
  {
   "cell_type": "code",
   "execution_count": 37,
   "id": "b738de9c",
   "metadata": {},
   "outputs": [],
   "source": [
    "# Defining X and y\n",
    "X = churnData.drop('Churn', axis=1)\n",
    "y = churnData['Churn']"
   ]
  },
  {
   "cell_type": "code",
   "execution_count": 39,
   "id": "b27ca08f",
   "metadata": {
    "scrolled": true
   },
   "outputs": [],
   "source": [
    "X_train, X_test, y_train, y_test = train_test_split(X, y, test_size=0.3, random_state=42)"
   ]
  },
  {
   "cell_type": "code",
   "execution_count": 43,
   "id": "f2d5e57d",
   "metadata": {},
   "outputs": [],
   "source": [
    "#Scale the features either by using normalizer or a standard scaler\n",
    "scaler = MinMaxScaler()\n",
    "X_normalized = scaler.fit_transform(X)"
   ]
  },
  {
   "cell_type": "code",
   "execution_count": null,
   "id": "e3a0dfc8",
   "metadata": {},
   "outputs": [],
   "source": []
  }
 ],
 "metadata": {
  "kernelspec": {
   "display_name": "Python 3 (ipykernel)",
   "language": "python",
   "name": "python3"
  },
  "language_info": {
   "codemirror_mode": {
    "name": "ipython",
    "version": 3
   },
   "file_extension": ".py",
   "mimetype": "text/x-python",
   "name": "python",
   "nbconvert_exporter": "python",
   "pygments_lexer": "ipython3",
   "version": "3.9.12"
  }
 },
 "nbformat": 4,
 "nbformat_minor": 5
}
