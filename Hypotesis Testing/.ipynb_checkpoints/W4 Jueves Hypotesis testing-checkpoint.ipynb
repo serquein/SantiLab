{
 "cells": [
  {
   "cell_type": "code",
   "execution_count": 5,
   "id": "91536455",
   "metadata": {},
   "outputs": [
    {
     "data": {
      "text/plain": [
       "2.121"
      ]
     },
     "execution_count": 5,
     "metadata": {},
     "output_type": "execute_result"
    }
   ],
   "source": [
    "import math\n",
    "import numpy as np\n",
    "import pandas as pd\n",
    "import scipy.stats as stats\n",
    "import matplotlib.pyplot as plt\n",
    "import seaborn as sns\n",
    "\n",
    "%matplotlib inline\n",
    "\n",
    "n = 100 # 100 > 30 -> Normal distribution\n",
    "# Ho: \\mu = 100\n",
    "# Ha: mean != 100\n",
    "\n",
    "sample_mean = 130.1\n",
    "pop_mean = 120\n",
    "sample_std_dev = 21.21\n",
    "\n",
    "sem = sample_std_dev/np.sqrt(n)\n",
    "sem \n",
    "\n"
   ]
  },
  {
   "cell_type": "code",
   "execution_count": 9,
   "id": "860b1bc6",
   "metadata": {},
   "outputs": [
    {
     "name": "stdout",
     "output_type": "stream",
     "text": [
      "The z score of our sample is: 4.76\n"
     ]
    }
   ],
   "source": [
    "z = (sample_mean-pop_mean)/sem\n",
    "print(\"The z score of our sample is: {:.2f}\".format(z))"
   ]
  },
  {
   "cell_type": "code",
   "execution_count": 12,
   "id": "6ef8f87a",
   "metadata": {},
   "outputs": [
    {
     "name": "stdout",
     "output_type": "stream",
     "text": [
      "1.6603911559963895\n"
     ]
    }
   ],
   "source": [
    "critical_value = stats.t.ppf(0.95, df = 99) # t-table as we do not have the population standard deviation\n",
    "print(critical_value)\n",
    "# z > critical_value => reject Ho\n",
    "#1.660 de la tabla"
   ]
  },
  {
   "cell_type": "code",
   "execution_count": null,
   "id": "7b41b335",
   "metadata": {},
   "outputs": [],
   "source": []
  }
 ],
 "metadata": {
  "kernelspec": {
   "display_name": "Python 3 (ipykernel)",
   "language": "python",
   "name": "python3"
  },
  "language_info": {
   "codemirror_mode": {
    "name": "ipython",
    "version": 3
   },
   "file_extension": ".py",
   "mimetype": "text/x-python",
   "name": "python",
   "nbconvert_exporter": "python",
   "pygments_lexer": "ipython3",
   "version": "3.9.12"
  }
 },
 "nbformat": 4,
 "nbformat_minor": 5
}
