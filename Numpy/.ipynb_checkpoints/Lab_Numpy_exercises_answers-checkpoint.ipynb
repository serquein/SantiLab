{
 "cells": [
  {
   "cell_type": "markdown",
   "id": "8b21d693",
   "metadata": {},
   "source": [
    "\n",
    "# numpy exercises\n",
    "\n",
    "This is a collection of exercises that have been collected in the numpy mailing list, on stack overflow\n",
    "and in the numpy documentation. The goal of this collection is to offer a quick reference for both old\n",
    "and new users but also to provide a set of exercises for those who teach.\n",
    "\n",
    "\n",
    "If you find an error or think you've a better way to solve some of them, feel\n",
    "free to open an issue at <https://github.com/rougier/numpy-100>.\n",
    "File automatically generated. See the documentation to update questions/answers/hints programmatically."
   ]
  },
  {
   "cell_type": "code",
   "execution_count": null,
   "id": "6714f8a8",
   "metadata": {},
   "outputs": [],
   "source": [
    "#### 1. Import the numpy package under the name `np` (★☆☆)\n",
    "`hint: import … as`"
   ]
  },
  {
   "cell_type": "code",
   "execution_count": 43,
   "id": "8cfbb265",
   "metadata": {},
   "outputs": [],
   "source": [
    "import numpy as np"
   ]
  },
  {
   "cell_type": "markdown",
   "id": "d76b2fe7",
   "metadata": {},
   "source": [
    "#### 2. Create a null vector of size 10 (★☆☆)\n",
    "`hint: np.zeros`"
   ]
  },
  {
   "cell_type": "code",
   "execution_count": 44,
   "id": "b867e6ac",
   "metadata": {},
   "outputs": [
    {
     "name": "stdout",
     "output_type": "stream",
     "text": [
      "[0. 0. 0. 0. 0. 0. 0. 0. 0. 0.]\n"
     ]
    }
   ],
   "source": [
    "a = np.zeros(10)\n",
    "print(a)"
   ]
  },
  {
   "cell_type": "markdown",
   "id": "28d04929",
   "metadata": {},
   "source": [
    "#### 3. Create a null vector of size 10 but the fifth value which is 1 (★☆☆)\n",
    "`hint: array[4]`"
   ]
  },
  {
   "cell_type": "code",
   "execution_count": 45,
   "id": "4871938c",
   "metadata": {},
   "outputs": [
    {
     "name": "stdout",
     "output_type": "stream",
     "text": [
      "[0. 0. 0. 0. 1. 0. 0. 0. 0. 0.]\n"
     ]
    }
   ],
   "source": [
    "a = np.zeros(10)\n",
    "a[4]=1\n",
    "\n",
    "print(a)"
   ]
  },
  {
   "cell_type": "markdown",
   "id": "43a78bca",
   "metadata": {},
   "source": [
    "#### 4. Create a vector with values ranging from 10 to 49 (★☆☆)\n",
    "`hint: arange`"
   ]
  },
  {
   "cell_type": "code",
   "execution_count": 46,
   "id": "71da3208",
   "metadata": {},
   "outputs": [
    {
     "name": "stdout",
     "output_type": "stream",
     "text": [
      "[10 11 12 13 14 15 16 17 18 19 20 21 22 23 24 25 26 27 28 29 30 31 32 33\n",
      " 34 35 36 37 38 39 40 41 42 43 44 45 46 47 48 49]\n"
     ]
    }
   ],
   "source": [
    "a = np.arange(10,50)\n",
    "print(a)"
   ]
  },
  {
   "cell_type": "markdown",
   "id": "eb2f6a4a",
   "metadata": {},
   "source": [
    "#### 5. Create a 3x3 matrix with values ranging from 0 to 8 (★☆☆)\n",
    "`hint: reshape`"
   ]
  },
  {
   "cell_type": "code",
   "execution_count": 47,
   "id": "1b684554",
   "metadata": {},
   "outputs": [
    {
     "name": "stdout",
     "output_type": "stream",
     "text": [
      "[[0 1 2]\n",
      " [3 4 5]\n",
      " [6 7 8]]\n"
     ]
    }
   ],
   "source": [
    "#Create a matrix 3x3  #Values from 0 to 8\n",
    "a = np.arange(0,9).reshape((3,3))\n",
    "print(a)"
   ]
  },
  {
   "cell_type": "markdown",
   "id": "a3545861",
   "metadata": {},
   "source": [
    "#### 6. Find indices of non-zero elements from [1,2,0,0,4,0] (★☆☆)\n",
    "`hint: np.nonzero`"
   ]
  },
  {
   "cell_type": "code",
   "execution_count": 48,
   "id": "96261ed7",
   "metadata": {},
   "outputs": [
    {
     "name": "stdout",
     "output_type": "stream",
     "text": [
      "(array([0, 1, 4], dtype=int64),)\n"
     ]
    }
   ],
   "source": [
    "a = np.nonzero([1,2,0,0,4,0])\n",
    "print(a)"
   ]
  },
  {
   "cell_type": "markdown",
   "id": "ae398d27",
   "metadata": {},
   "source": [
    "#### 7. Create a 3x3 identity matrix (★☆☆)\n",
    "`hint: np.eye`"
   ]
  },
  {
   "cell_type": "code",
   "execution_count": 49,
   "id": "ac50c0d0",
   "metadata": {},
   "outputs": [
    {
     "name": "stdout",
     "output_type": "stream",
     "text": [
      "[[1. 0. 0.]\n",
      " [0. 1. 0.]\n",
      " [0. 0. 1.]]\n"
     ]
    }
   ],
   "source": [
    "a = np.eye(3,3)\n",
    "print(a)"
   ]
  },
  {
   "cell_type": "markdown",
   "id": "095afd5c",
   "metadata": {},
   "source": [
    "#### 8. Create a 3x3x3 array with random values (★☆☆)\n",
    "`hint: np.random.random`"
   ]
  },
  {
   "cell_type": "code",
   "execution_count": 50,
   "id": "52dc2540",
   "metadata": {},
   "outputs": [
    {
     "name": "stdout",
     "output_type": "stream",
     "text": [
      "[[[0.54340494 0.27836939 0.42451759]\n",
      "  [0.84477613 0.00471886 0.12156912]\n",
      "  [0.67074908 0.82585276 0.13670659]]\n",
      "\n",
      " [[0.57509333 0.89132195 0.20920212]\n",
      "  [0.18532822 0.10837689 0.21969749]\n",
      "  [0.97862378 0.81168315 0.17194101]]\n",
      "\n",
      " [[0.81622475 0.27407375 0.43170418]\n",
      "  [0.94002982 0.81764938 0.33611195]\n",
      "  [0.17541045 0.37283205 0.00568851]]]\n"
     ]
    }
   ],
   "source": [
    "np.random.seed(100)\n",
    "a = np.random.random((3,3,3))\n",
    "print(a)"
   ]
  },
  {
   "cell_type": "markdown",
   "id": "0f28b0b7",
   "metadata": {},
   "source": [
    "#### 9. Create a 10x10 array with random values and find the minimum and maximum values (★☆☆)\n",
    "`hint: min, max`"
   ]
  },
  {
   "cell_type": "code",
   "execution_count": 51,
   "id": "d4d05509",
   "metadata": {},
   "outputs": [
    {
     "name": "stdout",
     "output_type": "stream",
     "text": [
      "0.9921580365105283\n",
      "0.004718856190972565\n"
     ]
    }
   ],
   "source": [
    "np.random.seed(100)\n",
    "a = np.random.random((10,10))\n",
    "print(np.max(a))\n",
    "print(np.min(a))"
   ]
  },
  {
   "cell_type": "markdown",
   "id": "8c3b4bed",
   "metadata": {},
   "source": [
    "#### 10. Create a random vector of size 30 and find the mean value (★☆☆)\n",
    "`hint: mean`"
   ]
  },
  {
   "cell_type": "code",
   "execution_count": 52,
   "id": "d20bef43",
   "metadata": {},
   "outputs": [
    {
     "name": "stdout",
     "output_type": "stream",
     "text": [
      "0.44625304699672363\n"
     ]
    }
   ],
   "source": [
    "np.random.seed(100)\n",
    "a = np.random.random((31))\n",
    "mean = np.mean(a, axis=0)\n",
    "print(mean)"
   ]
  },
  {
   "cell_type": "markdown",
   "id": "d2085ad6",
   "metadata": {},
   "source": [
    "#### 11. Create a 5x5 matrix with values 1,2,3,4 just below the diagonal (★☆☆)\n",
    "`hint: np.diag`"
   ]
  },
  {
   "cell_type": "code",
   "execution_count": 55,
   "id": "dd8ee0d7",
   "metadata": {},
   "outputs": [
    {
     "name": "stdout",
     "output_type": "stream",
     "text": [
      "[[1 0 0 0 0]\n",
      " [0 2 0 0 0]\n",
      " [0 0 3 0 0]\n",
      " [0 0 0 4 0]\n",
      " [0 0 0 0 5]]\n"
     ]
    }
   ],
   "source": [
    "#Create a 5x5 matrix  #With values 1,2,3,4 #Just below the diagonal\n",
    "a = np.diag([1,2,3,4,5])\n",
    "print(a)"
   ]
  },
  {
   "cell_type": "markdown",
   "id": "490ecc69",
   "metadata": {},
   "source": [
    "#### 12. Normalize a 5x5 random matrix (★☆☆)\n",
    "`hint: (x -mean)/std`"
   ]
  },
  {
   "cell_type": "code",
   "execution_count": 59,
   "id": "72406ac6",
   "metadata": {},
   "outputs": [
    {
     "name": "stdout",
     "output_type": "stream",
     "text": [
      "Original Array:\n",
      "[[0.08846017 0.52803522 0.99215804 0.39503593 0.33559644]\n",
      " [0.80545054 0.75434899 0.31306644 0.63403668 0.54040458]\n",
      " [0.29679375 0.1107879  0.3126403  0.45697913 0.65894007]\n",
      " [0.25425752 0.64110126 0.20012361 0.65762481 0.77828922]\n",
      " [0.7795984  0.61032815 0.30900035 0.69773491 0.8596183 ]]\n",
      "After normalization:\n",
      "[[0.         0.48641816 1.         0.33924586 0.27347223]\n",
      " [0.7933961  0.73684895 0.24854133 0.60371561 0.50010564]\n",
      " [0.23053455 0.02470707 0.24806977 0.40779001 0.63127282]\n",
      " [0.18346546 0.61153302 0.1235628  0.62981739 0.76334035]\n",
      " [0.76478904 0.5774806  0.24404194 0.67420181 0.85333622]]\n"
     ]
    }
   ],
   "source": [
    "df=np.random.random((5,5))\n",
    "print(\"Original Array:\")\n",
    "print(df)\n",
    "\n",
    "\n",
    "dfmax, dfmin =df.max(), df.min()\n",
    "df = (df - dfmin)/(dfmax - dfmin)\n",
    "print(\"After normalization:\")\n",
    "print(df)"
   ]
  },
  {
   "cell_type": "markdown",
   "id": "fa78d166",
   "metadata": {},
   "source": [
    "#### 13. How to find common values between two arrays? (★☆☆)\n",
    "`hint: np.intersect1d`"
   ]
  },
  {
   "cell_type": "code",
   "execution_count": 61,
   "id": "797c49cf",
   "metadata": {},
   "outputs": [
    {
     "name": "stdout",
     "output_type": "stream",
     "text": [
      "[2 4]\n"
     ]
    }
   ],
   "source": [
    "a = np.array ([0,1,2,3,4])\n",
    "b = np.array ([4,2])\n",
    "\n",
    "print(np.intersect1d(a,b))\n",
    "\n"
   ]
  },
  {
   "cell_type": "markdown",
   "id": "d1a45fa0",
   "metadata": {},
   "source": [
    "#### 14. Create a random vector of size 10 and sort it (★★☆)\n",
    "`hint: sort`"
   ]
  },
  {
   "cell_type": "code",
   "execution_count": 62,
   "id": "37c0895b",
   "metadata": {},
   "outputs": [
    {
     "name": "stdout",
     "output_type": "stream",
     "text": [
      "Original array\n",
      "[0.62532376 0.98240783 0.97650013 0.16669413 0.02317814 0.16074455\n",
      " 0.92349683 0.95354985 0.21097842 0.36052525]\n",
      "Sorted array\n",
      "[0.02317814 0.16074455 0.16669413 0.21097842 0.36052525 0.62532376\n",
      " 0.92349683 0.95354985 0.97650013 0.98240783]\n"
     ]
    }
   ],
   "source": [
    "a = np.random.random(10)\n",
    "print(\"Original array\")\n",
    "print(a)\n",
    "a.sort()\n",
    "print(\"Sorted array\")\n",
    "print(a)"
   ]
  },
  {
   "cell_type": "markdown",
   "id": "076319c0",
   "metadata": {},
   "source": [
    "#### 15. Create random vector of size 10 and replace the maximum value by 0 (★★☆)\n",
    "`hint: argmax`"
   ]
  },
  {
   "cell_type": "code",
   "execution_count": 64,
   "id": "10ebca51",
   "metadata": {},
   "outputs": [
    {
     "name": "stdout",
     "output_type": "stream",
     "text": [
      "Original array\n",
      "[0.40288033 0.3542983  0.50061432 0.44517663 0.09043279 0.27356292\n",
      " 0.9434771  0.02654464 0.03999869 0.28314036]\n",
      "Maximum value replaced by 0\n",
      "[0.40288033 0.3542983  0.50061432 0.44517663 0.09043279 0.27356292\n",
      " 0.         0.02654464 0.03999869 0.28314036]\n"
     ]
    }
   ],
   "source": [
    "a = np.random.random(10)\n",
    "print(\"Original array\")\n",
    "print(a)\n",
    "\n",
    "a[a.argmax()] = 0\n",
    "print(\"Maximum value replaced by 0\")\n",
    "print(a)"
   ]
  },
  {
   "cell_type": "markdown",
   "id": "3176df94",
   "metadata": {},
   "source": [
    "#### 16. Subtract the mean of each row of a matrix (★★☆)\n",
    "`hint: mean(axis=,keepdims=)`"
   ]
  },
  {
   "cell_type": "code",
   "execution_count": 65,
   "id": "39fc1c16",
   "metadata": {},
   "outputs": [
    {
     "name": "stdout",
     "output_type": "stream",
     "text": [
      "Original matrix\n",
      "[[0.58234417 0.9908928  0.99264224 0.99311737 0.11004833 0.66448145\n",
      "  0.52398683 0.17314991 0.94296024]\n",
      " [0.24186009 0.99893227 0.58269382 0.183279   0.38684542 0.18967353\n",
      "  0.41077067 0.59468007 0.71658609]\n",
      " [0.48689148 0.30958982 0.57744137 0.44170782 0.3596781  0.32133193\n",
      "  0.20820724 0.45125862 0.49184291]]\n",
      "Subtract the mean of each row of a matrix\n",
      "[[-0.08139176  0.32715688  0.32890631  0.32938144 -0.5536876   0.00074552\n",
      "  -0.13974909 -0.49058602  0.27922432]\n",
      " [-0.23650891  0.52056327  0.10432482 -0.29508999 -0.09152357 -0.28869547\n",
      "  -0.06759832  0.11631107  0.2382171 ]\n",
      " [ 0.08156378 -0.09573788  0.17211367  0.03638012 -0.0456496  -0.08399577\n",
      "  -0.19712046  0.04593092  0.08651521]]\n"
     ]
    }
   ],
   "source": [
    "print(\"Original matrix\")\n",
    "a = np.random.rand(3,9)\n",
    "print(a)\n",
    "print(\"Subtract the mean of each row of a matrix\")\n",
    "b = a - a.mean(axis=1, keepdims=True)\n",
    "print(b)"
   ]
  },
  {
   "cell_type": "markdown",
   "id": "ae57d98d",
   "metadata": {},
   "source": [
    "#### 17. How to get the n largest values of an array (★★★)\n",
    "`Z = np.arange(10000)\n",
    "np.random.shuffle(Z)\n",
    "n = 5\n",
    "hint: np.argsort | np.argpartition`"
   ]
  },
  {
   "cell_type": "code",
   "execution_count": null,
   "id": "6d847989",
   "metadata": {},
   "outputs": [],
   "source": []
  },
  {
   "cell_type": "markdown",
   "id": "cd9087b3",
   "metadata": {},
   "source": [
    "#### 18. Create a random 5*3 matrix and replace items that are larger than 4 by their squares ( Example:  6 --> 36) \n",
    "`hint: np.where`"
   ]
  },
  {
   "cell_type": "code",
   "execution_count": 69,
   "id": "9aaf85b2",
   "metadata": {},
   "outputs": [
    {
     "name": "stdout",
     "output_type": "stream",
     "text": [
      "[[0.54340494 0.27836939 0.42451759]\n",
      " [0.84477613 0.00471886 0.12156912]\n",
      " [0.67074908 0.82585276 0.13670659]\n",
      " [0.57509333 0.89132195 0.20920212]\n",
      " [0.18532822 0.10837689 0.21969749]]\n"
     ]
    }
   ],
   "source": [
    "np.random.seed(100)\n",
    "a = np.random.random((5,3))\n",
    "print(\"Original Array\")\n",
    "print(a)\n",
    "\n",
    "matrix = np.where(matrix > 4, matrix**2, matrix)\n",
    "print(\"Modified Matrix:\")\n",
    "print(matrix)"
   ]
  },
  {
   "cell_type": "code",
   "execution_count": null,
   "id": "017f9887",
   "metadata": {},
   "outputs": [],
   "source": []
  }
 ],
 "metadata": {
  "kernelspec": {
   "display_name": "Python 3 (ipykernel)",
   "language": "python",
   "name": "python3"
  },
  "language_info": {
   "codemirror_mode": {
    "name": "ipython",
    "version": 3
   },
   "file_extension": ".py",
   "mimetype": "text/x-python",
   "name": "python",
   "nbconvert_exporter": "python",
   "pygments_lexer": "ipython3",
   "version": "3.9.12"
  }
 },
 "nbformat": 4,
 "nbformat_minor": 5
}
