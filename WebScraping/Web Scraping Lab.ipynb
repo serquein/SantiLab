{
 "cells": [
  {
   "cell_type": "code",
   "execution_count": null,
   "id": "3b972044",
   "metadata": {},
   "outputs": [],
   "source": [
    "import requests\n",
    "import bs4\n",
    "\n",
    "url = 'https://www.billboard.com/charts/hot-100/'\n",
    "res = requests.get(url)\n",
    "soup = bs4.BeautifulSoup(res.text)\n",
    "\n",
    "data = []\n",
    "\n",
    "for e in soup.find_all(attrs={'class':'o-chart-results-list-row-container'}):\n",
    "    data.append({\n",
    "        'title':e.h3.get_text(strip=True),\n",
    "        'author':e.h3.find_next('span').get_text(strip=True)\n",
    "    })\n",
    "\n",
    "data"
   ]
  }
 ],
 "metadata": {
  "kernelspec": {
   "display_name": "Python 3 (ipykernel)",
   "language": "python",
   "name": "python3"
  },
  "language_info": {
   "codemirror_mode": {
    "name": "ipython",
    "version": 3
   },
   "file_extension": ".py",
   "mimetype": "text/x-python",
   "name": "python",
   "nbconvert_exporter": "python",
   "pygments_lexer": "ipython3",
   "version": "3.9.12"
  }
 },
 "nbformat": 4,
 "nbformat_minor": 5
}
