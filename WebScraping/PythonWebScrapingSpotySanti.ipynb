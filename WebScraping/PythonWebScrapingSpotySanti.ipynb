{
 "cells": [
  {
   "cell_type": "code",
   "execution_count": 1,
   "id": "680e02eb",
   "metadata": {},
   "outputs": [],
   "source": [
    "#user input song\n",
    "#check if it is currently hot\n",
    "#if yes-->recomended another hot song\n",
    "#if no say\"sorry you song is no hot\""
   ]
  },
  {
   "cell_type": "code",
   "execution_count": null,
   "id": "1a8976cd",
   "metadata": {},
   "outputs": [],
   "source": [
    "user_input = input (\"Please enter a song\")"
   ]
  },
  {
   "cell_type": "code",
   "execution_count": null,
   "id": "c0cc6e93",
   "metadata": {},
   "outputs": [],
   "source": [
    "import requests\n",
    "from bs4 import BeautifulSoup\n",
    "import pandas as pd\n",
    "import random"
   ]
  },
  {
   "cell_type": "code",
   "execution_count": null,
   "id": "dac77ec9",
   "metadata": {},
   "outputs": [],
   "source": [
    "url = 'https://www.billboard.com/charts/hot-100/'"
   ]
  },
  {
   "cell_type": "code",
   "execution_count": null,
   "id": "84c33a81",
   "metadata": {},
   "outputs": [],
   "source": [
    "response = requests.get(url)"
   ]
  },
  {
   "cell_type": "code",
   "execution_count": null,
   "id": "92480908",
   "metadata": {},
   "outputs": [],
   "source": [
    "soup = BeautifulSoup(response.content, \"html.parser\")"
   ]
  },
  {
   "cell_type": "code",
   "execution_count": null,
   "id": "ddbee9bc",
   "metadata": {},
   "outputs": [],
   "source": [
    "titles = []\n",
    "for i in soup.select('#title-of-a-story.c-title.a-no-trucate'):\n",
    "    titles.append(i.get_text(strip = True)) #(strip = true) te saca los espacios"
   ]
  },
  {
   "cell_type": "code",
   "execution_count": null,
   "id": "bb672df6",
   "metadata": {},
   "outputs": [],
   "source": [
    "titles"
   ]
  },
  {
   "cell_type": "code",
   "execution_count": null,
   "id": "17b67261",
   "metadata": {},
   "outputs": [],
   "source": [
    "soup.select('.c-label.a-no-trucate')"
   ]
  },
  {
   "cell_type": "code",
   "execution_count": null,
   "id": "07b5bc41",
   "metadata": {},
   "outputs": [],
   "source": []
  },
  {
   "cell_type": "code",
   "execution_count": null,
   "id": "56a7359b",
   "metadata": {},
   "outputs": [],
   "source": [
    "artists = []\n",
    "for i in soup.select('.c-label.a-no-trucate'):\n",
    "    artists.append(i.get_text(strip= True))"
   ]
  },
  {
   "cell_type": "code",
   "execution_count": null,
   "id": "7ae2cb3a",
   "metadata": {},
   "outputs": [],
   "source": [
    "artists"
   ]
  },
  {
   "cell_type": "code",
   "execution_count": null,
   "id": "8c927301",
   "metadata": {},
   "outputs": [],
   "source": [
    "list_of_songs =['Hotel California']"
   ]
  },
  {
   "cell_type": "code",
   "execution_count": null,
   "id": "ff921be9",
   "metadata": {},
   "outputs": [],
   "source": [
    "top100_df = pd.DataFrame({'titles':titles, 'artist': artists})"
   ]
  },
  {
   "cell_type": "code",
   "execution_count": null,
   "id": "fba570b4",
   "metadata": {},
   "outputs": [],
   "source": [
    "top100_df"
   ]
  },
  {
   "cell_type": "code",
   "execution_count": null,
   "id": "d9ea49cd",
   "metadata": {},
   "outputs": [],
   "source": [
    "user_input = input('Please enter a song:')"
   ]
  },
  {
   "cell_type": "code",
   "execution_count": null,
   "id": "6059e065",
   "metadata": {},
   "outputs": [],
   "source": [
    "user_input"
   ]
  },
  {
   "cell_type": "code",
   "execution_count": null,
   "id": "51885aa6",
   "metadata": {},
   "outputs": [],
   "source": [
    "#user input song\n",
    "#check if it is currently hot\n",
    "#if yes-->recomended another hot song\n",
    "#if no say\"sorry you song is no hot\"m"
   ]
  },
  {
   "cell_type": "code",
   "execution_count": null,
   "id": "fb477778",
   "metadata": {},
   "outputs": [],
   "source": [
    "random.choice(top100_df['titles'])"
   ]
  },
  {
   "cell_type": "code",
   "execution_count": null,
   "id": "2dc15cbd",
   "metadata": {},
   "outputs": [],
   "source": [
    "title_lower = []\n",
    "for title in titles:\n",
    "    title_lower.append(title.lower())"
   ]
  },
  {
   "cell_type": "code",
   "execution_count": null,
   "id": "068349f1",
   "metadata": {},
   "outputs": [],
   "source": []
  },
  {
   "cell_type": "code",
   "execution_count": null,
   "id": "93699665",
   "metadata": {},
   "outputs": [],
   "source": [
    "#list(top100_df['titles']):\n",
    "def check_if_hot():\n",
    "    user_input = input('Please enter a song:')\n",
    "    if user_input.lower() in title_lower:\n",
    "        random_song = random.choice(top100_df['titles'])\n",
    "        print('We recomend you', random_song)\n",
    "    else:\n",
    "        print('sorry you song is no hot')"
   ]
  },
  {
   "cell_type": "code",
   "execution_count": null,
   "id": "51efa5a1",
   "metadata": {},
   "outputs": [],
   "source": [
    "check_if_hot()"
   ]
  },
  {
   "cell_type": "markdown",
   "id": "221765cd",
   "metadata": {
    "collapsed": true
   },
   "source": [
    "Spotify Playlists"
   ]
  },
  {
   "cell_type": "code",
   "execution_count": null,
   "id": "db63b814",
   "metadata": {},
   "outputs": [],
   "source": [
    "import spotipy\n",
    "import json\n",
    "from spotipy.oauth2 import SpotifyClientCredentials\n",
    "import config\n",
    "import pprint"
   ]
  },
  {
   "cell_type": "code",
   "execution_count": null,
   "id": "01a6c264",
   "metadata": {},
   "outputs": [],
   "source": [
    "#Initialize SpotiPy with user credentials\n",
    "sp = spotipy.Spotify(auth_manager=SpotifyClientCredentials(client_id= config.client_id,\n",
    "                                                           client_secret= config.client_secret))"
   ]
  },
  {
   "cell_type": "code",
   "execution_count": null,
   "id": "2e86a97d",
   "metadata": {},
   "outputs": [],
   "source": [
    "playlist = sp.user_playlist_tracks(\"spotify\", \"37i9dQZEVXbO3qyFxbkOE1\",market=\"GB\")"
   ]
  },
  {
   "cell_type": "code",
   "execution_count": null,
   "id": "6a526dff",
   "metadata": {},
   "outputs": [],
   "source": [
    "type(playlist)\n",
    "#it is a dict nested "
   ]
  },
  {
   "cell_type": "code",
   "execution_count": null,
   "id": "c57428ef",
   "metadata": {},
   "outputs": [],
   "source": [
    "playlist[\"items\"][0]"
   ]
  },
  {
   "cell_type": "code",
   "execution_count": null,
   "id": "52199d36",
   "metadata": {},
   "outputs": [],
   "source": [
    "def get_playlist_tracks(username, playlist_id):\n",
    "    results = sp.user_playlist_tracks(username,playlist_id,market=\"GB\")\n",
    "    tracks = results['items']\n",
    "    while results['next']:\n",
    "        results = sp.next(results)\n",
    "        tracks.extend(results['items'])\n",
    "    return results"
   ]
  },
  {
   "cell_type": "code",
   "execution_count": null,
   "id": "65d3af8c",
   "metadata": {},
   "outputs": [],
   "source": [
    "tracks=get_playlist_tracks('spotify','37i9dQZEVXbO3qyFxbkOE1')\n",
    "tracks"
   ]
  },
  {
   "cell_type": "code",
   "execution_count": null,
   "id": "83291b96",
   "metadata": {},
   "outputs": [],
   "source": [
    "list_of_audio_features = []\n",
    "list_of_audio_features.append(sp.audio_features(tracks['items'][0][\"track\"][\"id\"]))"
   ]
  },
  {
   "cell_type": "code",
   "execution_count": null,
   "id": "401aa29f",
   "metadata": {},
   "outputs": [],
   "source": [
    "list_of_audio_features=[]\n",
    "for item in range(0,50):\n",
    "    #print (tracks[item][\"track\"][\"id\"])\n",
    "    list_of_audio_features.append(sp.audio_features(tracks['items'][item][\"track\"][\"id\"])[0])"
   ]
  },
  {
   "cell_type": "code",
   "execution_count": null,
   "id": "3aafa21c",
   "metadata": {},
   "outputs": [],
   "source": [
    "list_of_audio_features"
   ]
  },
  {
   "cell_type": "code",
   "execution_count": null,
   "id": "7ceb7c79",
   "metadata": {},
   "outputs": [],
   "source": [
    "import pandas as pd\n",
    "\n",
    "df=pd.DataFrame(list_of_audio_features)    \n",
    "df=df[[\"danceability\",\"energy\",\"loudness\",\"speechiness\",\"acousticness\",\n",
    "    \"instrumentalness\",\"liveness\",\"valence\",\"tempo\",\"id\",\"duration_ms\"]]\n",
    "\n",
    "df"
   ]
  },
  {
   "cell_type": "code",
   "execution_count": null,
   "id": "732789bc",
   "metadata": {},
   "outputs": [],
   "source": []
  },
  {
   "cell_type": "code",
   "execution_count": null,
   "id": "db90b654",
   "metadata": {},
   "outputs": [],
   "source": []
  },
  {
   "cell_type": "code",
   "execution_count": null,
   "id": "7e614633",
   "metadata": {},
   "outputs": [],
   "source": []
  },
  {
   "cell_type": "code",
   "execution_count": null,
   "id": "81092aa6",
   "metadata": {},
   "outputs": [],
   "source": []
  },
  {
   "cell_type": "code",
   "execution_count": null,
   "id": "4e86447a",
   "metadata": {},
   "outputs": [],
   "source": []
  },
  {
   "cell_type": "code",
   "execution_count": null,
   "id": "278758c7",
   "metadata": {},
   "outputs": [],
   "source": []
  },
  {
   "cell_type": "code",
   "execution_count": null,
   "id": "8f53c2c1",
   "metadata": {},
   "outputs": [],
   "source": []
  },
  {
   "cell_type": "code",
   "execution_count": null,
   "id": "6e5b2055",
   "metadata": {},
   "outputs": [],
   "source": []
  },
  {
   "cell_type": "code",
   "execution_count": null,
   "id": "8b4769c1",
   "metadata": {},
   "outputs": [],
   "source": []
  },
  {
   "cell_type": "code",
   "execution_count": null,
   "id": "175232c9",
   "metadata": {},
   "outputs": [],
   "source": []
  },
  {
   "cell_type": "code",
   "execution_count": null,
   "id": "5fe44408",
   "metadata": {},
   "outputs": [],
   "source": []
  },
  {
   "cell_type": "code",
   "execution_count": null,
   "id": "8386fcae",
   "metadata": {},
   "outputs": [],
   "source": []
  },
  {
   "cell_type": "code",
   "execution_count": null,
   "id": "ccb9a66c",
   "metadata": {},
   "outputs": [],
   "source": []
  }
 ],
 "metadata": {
  "kernelspec": {
   "display_name": "Python 3 (ipykernel)",
   "language": "python",
   "name": "python3"
  },
  "language_info": {
   "codemirror_mode": {
    "name": "ipython",
    "version": 3
   },
   "file_extension": ".py",
   "mimetype": "text/x-python",
   "name": "python",
   "nbconvert_exporter": "python",
   "pygments_lexer": "ipython3",
   "version": "3.9.12"
  }
 },
 "nbformat": 4,
 "nbformat_minor": 5
}
