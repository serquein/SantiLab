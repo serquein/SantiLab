{
 "cells": [
  {
   "cell_type": "markdown",
   "id": "30485a80",
   "metadata": {},
   "source": [
    "## Lambda function"
   ]
  },
  {
   "cell_type": "markdown",
   "source": [
    "Python has a special means of defining functions \"inline\" via lambda expressions. Lambda expressions have their origin in mathematical logic and functional programming languages such a Haskell and LISP, but they have many applications for data analytics in python because they provide a streamlined means to transform data structures."
   ],
   "metadata": {
    "collapsed": false
   }
  },
  {
   "cell_type": "markdown",
   "source": [
    "The simplest form of a lambda expression would be in application to the identity function, or a function which returns its input unchanged."
   ],
   "metadata": {
    "collapsed": false
   }
  },
  {
   "cell_type": "code",
   "execution_count": 18,
   "outputs": [],
   "source": [
    "def identity(x):\n",
    "    return x"
   ],
   "metadata": {
    "collapsed": false
   }
  },
  {
   "cell_type": "code",
   "execution_count": 19,
   "outputs": [],
   "source": [
    "y = lambda x: x"
   ],
   "metadata": {
    "collapsed": false
   }
  },
  {
   "cell_type": "code",
   "execution_count": 20,
   "outputs": [
    {
     "data": {
      "text/plain": "'a'"
     },
     "execution_count": 20,
     "metadata": {},
     "output_type": "execute_result"
    }
   ],
   "source": [
    "identity('a')"
   ],
   "metadata": {
    "collapsed": false
   }
  },
  {
   "cell_type": "code",
   "execution_count": 21,
   "outputs": [
    {
     "data": {
      "text/plain": "'a'"
     },
     "execution_count": 21,
     "metadata": {},
     "output_type": "execute_result"
    }
   ],
   "source": [
    "y('a')"
   ],
   "metadata": {
    "collapsed": false
   }
  },
  {
   "cell_type": "markdown",
   "source": [
    "Lambda expressions involve three things: the python keyword lambda, the so-called bound variable which in the above we called x,\n",
    "and a body which is how the bound variable is processed. In the above example the body was to return x unchanged, but one can\n",
    "have more freedom in the body to change the input variable as we'll see in the next example."
   ],
   "metadata": {
    "collapsed": false
   }
  },
  {
   "cell_type": "code",
   "execution_count": 22,
   "id": "1759ebe9",
   "metadata": {},
   "outputs": [],
   "source": [
    "### Say we want to add 3 to any number and return the result. The traditional approach would be to define a function like\n",
    "def sumX(x):\n",
    "    return x+3"
   ]
  },
  {
   "cell_type": "code",
   "execution_count": 23,
   "id": "b48bd72a",
   "metadata": {
    "scrolled": false
   },
   "outputs": [
    {
     "data": {
      "text/plain": "5"
     },
     "execution_count": 23,
     "metadata": {},
     "output_type": "execute_result"
    }
   ],
   "source": [
    "sumX(2)"
   ]
  },
  {
   "cell_type": "code",
   "execution_count": 24,
   "id": "0fe0518a",
   "metadata": {},
   "outputs": [],
   "source": [
    "sumX = lambda  x: x+3"
   ]
  },
  {
   "cell_type": "code",
   "execution_count": 25,
   "id": "10c4f16a",
   "metadata": {},
   "outputs": [
    {
     "data": {
      "text/plain": "5"
     },
     "execution_count": 25,
     "metadata": {},
     "output_type": "execute_result"
    }
   ],
   "source": [
    "sumX(2)"
   ]
  },
  {
   "cell_type": "markdown",
   "id": "9ecdf6cb",
   "metadata": {},
   "source": [
    "## Map function with Lambda"
   ]
  },
  {
   "cell_type": "markdown",
   "source": [
    "The map expression takes an iterable (list,  tuple, set, etc) and \"maps\" a function to each its elements. It returns a new\n",
    "iterable called map object. In the examples below, the map object is casted into a list so we can \"see\" its output."
   ],
   "metadata": {
    "collapsed": false
   }
  },
  {
   "cell_type": "code",
   "execution_count": 26,
   "outputs": [
    {
     "name": "stdout",
     "output_type": "stream",
     "text": [
      "map(func, *iterables) --> map object\n",
      "\n",
      "Make an iterator that computes the function using arguments from\n",
      "each of the iterables.  Stops when the shortest iterable is exhausted.\n"
     ]
    }
   ],
   "source": [
    "print(map.__doc__) # let's see some documentation about map"
   ],
   "metadata": {
    "collapsed": false
   }
  },
  {
   "cell_type": "markdown",
   "source": [
    "Say we have a list of strings for a bunch of genders that we want to capitalize. We can use the map function to\n",
    "apply the string method upper to each component of the list."
   ],
   "metadata": {
    "collapsed": false
   }
  },
  {
   "cell_type": "code",
   "execution_count": 27,
   "id": "8a91dd6b",
   "metadata": {},
   "outputs": [
    {
     "data": {
      "text/plain": "['M', 'M', 'MALE', 'OTHER', 'F', 'F', 'FEMALE']"
     },
     "execution_count": 27,
     "metadata": {},
     "output_type": "execute_result"
    }
   ],
   "source": [
    "genders = ['M', 'm', 'male', 'other', 'F', 'f', 'female']\n",
    "list(map(lambda x: x.upper(), genders))"
   ]
  },
  {
   "cell_type": "markdown",
   "source": [
    "In this example we add 10 to every student's score, because they deserve a bonus for good participation."
   ],
   "metadata": {
    "collapsed": false
   }
  },
  {
   "cell_type": "code",
   "execution_count": 28,
   "id": "72e3763e",
   "metadata": {},
   "outputs": [
    {
     "data": {
      "text/plain": "[66, 103, 50, 69, 109, 80, 93, 33, 47, 78, 21, 100, 99]"
     },
     "execution_count": 28,
     "metadata": {},
     "output_type": "execute_result"
    }
   ],
   "source": [
    "scores = [56, 93, 40, 59, 99, 70, 83, 23, 37, 68, 11, 90, 89]\n",
    "list(map(lambda x:x+10, scores))"
   ]
  },
  {
   "cell_type": "markdown",
   "source": [
    "Grades can only go up to 100, so we add a conditional to the body of the lambda expression."
   ],
   "metadata": {
    "collapsed": false
   }
  },
  {
   "cell_type": "code",
   "execution_count": 29,
   "outputs": [
    {
     "data": {
      "text/plain": "[66, 100, 50, 69, 100, 80, 93, 33, 47, 78, 21, 100, 99]"
     },
     "execution_count": 29,
     "metadata": {},
     "output_type": "execute_result"
    }
   ],
   "source": [
    "list(map(lambda x:x+10 if x+10 <100 else 100, scores))"
   ],
   "metadata": {
    "collapsed": false
   }
  },
  {
   "cell_type": "markdown",
   "source": [
    "Say we want to select only the scores which are less than 50 and add 10 to them to \"bump up\" low grades. We can use the filter function for this."
   ],
   "metadata": {
    "collapsed": false
   }
  },
  {
   "cell_type": "code",
   "execution_count": 30,
   "outputs": [
    {
     "data": {
      "text/plain": "<filter at 0x1082789d0>"
     },
     "execution_count": 30,
     "metadata": {},
     "output_type": "execute_result"
    }
   ],
   "source": [
    "filt = filter(lambda x:  x<50, scores)\n",
    "filt"
   ],
   "metadata": {
    "collapsed": false
   }
  },
  {
   "cell_type": "code",
   "execution_count": 31,
   "outputs": [
    {
     "data": {
      "text/plain": "[50, 33, 47, 21]"
     },
     "execution_count": 31,
     "metadata": {},
     "output_type": "execute_result"
    }
   ],
   "source": [
    "list(map(lambda x: x+10, filt))"
   ],
   "metadata": {
    "collapsed": false
   }
  },
  {
   "cell_type": "markdown",
   "source": [
    "It's more informative to have names associated with the scores. Let us thus define a dictionary with some names and corresponding scores and perform the same addition of 10. We want the output to preserve the dictionary structure, so we invoke the\n",
    "zip function and cast its output as a dictionary.\n"
   ],
   "metadata": {
    "collapsed": false
   }
  },
  {
   "cell_type": "code",
   "execution_count": 32,
   "outputs": [],
   "source": [
    "scores_d  = {\"paul\": 76, \"sharon\": 68, \"arturo\": 40, \"max\": 94, \"maria\" : 87}"
   ],
   "metadata": {
    "collapsed": false
   }
  },
  {
   "cell_type": "code",
   "execution_count": 33,
   "outputs": [
    {
     "data": {
      "text/plain": "{'paul': 86, 'sharon': 78, 'arturo': 50, 'max': 100, 'maria': 97}"
     },
     "execution_count": 33,
     "metadata": {},
     "output_type": "execute_result"
    }
   ],
   "source": [
    "dict(zip(scores_d.keys(), list(map(lambda x: x+10 if x+10 <100 else 100, scores_d.values()))))"
   ],
   "metadata": {
    "collapsed": false
   }
  },
  {
   "cell_type": "markdown",
   "source": [
    "Lastly, let's put everything together and capitalize the names using what we've learned above."
   ],
   "metadata": {
    "collapsed": false
   }
  },
  {
   "cell_type": "code",
   "execution_count": 34,
   "outputs": [
    {
     "data": {
      "text/plain": "{'PAUL': 86, 'SHARON': 78, 'ARTURO': 50, 'MAX': 100, 'MARIA': 97}"
     },
     "execution_count": 34,
     "metadata": {},
     "output_type": "execute_result"
    }
   ],
   "source": [
    "dict(zip( list(map(lambda x: x.upper(), scores_d.keys())), list(map(lambda x: x+10 if x+10 <100 else 100, scores_d.values()))))"
   ],
   "metadata": {
    "collapsed": false
   }
  },
  {
   "cell_type": "code",
   "execution_count": 34,
   "outputs": [],
   "source": [],
   "metadata": {
    "collapsed": false
   }
  }
 ],
 "metadata": {
  "kernelspec": {
   "display_name": "Python 3 (ipykernel)",
   "language": "python",
   "name": "python3"
  },
  "language_info": {
   "codemirror_mode": {
    "name": "ipython",
    "version": 3
   },
   "file_extension": ".py",
   "mimetype": "text/x-python",
   "name": "python",
   "nbconvert_exporter": "python",
   "pygments_lexer": "ipython3",
   "version": "3.9.7"
  }
 },
 "nbformat": 4,
 "nbformat_minor": 5
}
