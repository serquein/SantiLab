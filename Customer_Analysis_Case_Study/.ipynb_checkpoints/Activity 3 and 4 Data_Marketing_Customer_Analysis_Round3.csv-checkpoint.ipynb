{
 "cells": [
  {
   "cell_type": "code",
   "execution_count": null,
   "id": "7b386628",
   "metadata": {},
   "outputs": [],
   "source": []
  },
  {
   "cell_type": "code",
   "execution_count": null,
   "id": "90435ff6",
   "metadata": {},
   "outputs": [],
   "source": [
    "\"\"\"\n",
    "You have to look for patterns in this data that shows \n",
    "\n",
    "interesting relationships among the input features as well as with relation to the target feature.\n",
    "\n",
    "\"\"\""
   ]
  },
  {
   "cell_type": "code",
   "execution_count": null,
   "id": "bf5f0601",
   "metadata": {},
   "outputs": [],
   "source": [
    "# import libraries to use (pandas, matplotlib.pyplot and seaborn)\n",
    "import pandas as pd\n",
    "import numpy as np\n",
    "import matplotlib.pyplot as plt\n",
    "import seaborn as sns #muestra el gráfico automáticamente\n",
    "%matplotlib inline"
   ]
  },
  {
   "cell_type": "markdown",
   "id": "152fb024",
   "metadata": {},
   "source": [
    "Get the numeric data into dataframe called numerical and categorical columns in a dataframe called categoricals. \n",
    "\n",
    "(You can use np.number and np.object to select the numerical data types and categorical data types respectively)"
   ]
  },
  {
   "cell_type": "code",
   "execution_count": 3,
   "id": "7d70ffb9",
   "metadata": {},
   "outputs": [
    {
     "ename": "NameError",
     "evalue": "name 'pd' is not defined",
     "output_type": "error",
     "traceback": [
      "\u001b[1;31m---------------------------------------------------------------------------\u001b[0m",
      "\u001b[1;31mNameError\u001b[0m                                 Traceback (most recent call last)",
      "Input \u001b[1;32mIn [3]\u001b[0m, in \u001b[0;36m<cell line: 1>\u001b[1;34m()\u001b[0m\n\u001b[1;32m----> 1\u001b[0m categoricals \u001b[38;5;241m=\u001b[39m \u001b[43mpd\u001b[49m\u001b[38;5;241m.\u001b[39mread_csv(\u001b[38;5;124m'\u001b[39m\u001b[38;5;124mData_Marketing_Customer_Analysis_Round3\u001b[39m\u001b[38;5;124m'\u001b[39m)\n\u001b[0;32m      3\u001b[0m numerical \u001b[38;5;241m=\u001b[39m np\u001b[38;5;241m.\u001b[39mnumber\u001b[38;5;241m.\u001b[39mcategoricals\n\u001b[0;32m      4\u001b[0m categorical \u001b[38;5;241m=\u001b[39m np\u001b[38;5;241m.\u001b[39mobject\u001b[38;5;241m.\u001b[39mcategoricals\n",
      "\u001b[1;31mNameError\u001b[0m: name 'pd' is not defined"
     ]
    }
   ],
   "source": [
    "categoricals = pd.read_csv('Data_Marketing_Customer_Analysis_Round3')\n",
    "\n",
    "numerical = np.number.categoricals\n",
    "categorical = np.object.categoricals\n",
    "\n",
    "numerical"
   ]
  },
  {
   "cell_type": "code",
   "execution_count": null,
   "id": "33edae63",
   "metadata": {},
   "outputs": [],
   "source": []
  }
 ],
 "metadata": {
  "kernelspec": {
   "display_name": "Python 3 (ipykernel)",
   "language": "python",
   "name": "python3"
  },
  "language_info": {
   "codemirror_mode": {
    "name": "ipython",
    "version": 3
   },
   "file_extension": ".py",
   "mimetype": "text/x-python",
   "name": "python",
   "nbconvert_exporter": "python",
   "pygments_lexer": "ipython3",
   "version": "3.9.12"
  }
 },
 "nbformat": 4,
 "nbformat_minor": 5
}
